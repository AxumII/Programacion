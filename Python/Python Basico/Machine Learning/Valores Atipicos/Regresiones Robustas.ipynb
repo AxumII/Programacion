{
 "cells": [
  {
   "cell_type": "code",
   "execution_count": null,
   "metadata": {},
   "outputs": [],
   "source": [
    "#Hay \n",
    "#Ransac : Toma muestras aleatorias, elige la muestra que menor cantidad de datos\n",
    "#atipicos considere, asume que no hay patron en los valroes atipicos, solo los descarta\n",
    "#Huber regressor: Elimina el peso de los valores atipicos, siendo estos el 5% excluido de una distribucion normal"
   ]
  }
 ],
 "metadata": {
  "language_info": {
   "name": "python"
  },
  "orig_nbformat": 4
 },
 "nbformat": 4,
 "nbformat_minor": 2
}
