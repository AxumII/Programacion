{
 "cells": [
  {
   "cell_type": "code",
   "execution_count": 11,
   "metadata": {},
   "outputs": [],
   "source": [
    "import numpy as np\n",
    "import pandas as pd\n",
    "import matplotlib.pyplot as plt\n",
    "\n",
    "#Elementos vectoriales\n",
    "Escalar = \"una variable cualquiera con cualquier tipo de dato\"\n",
    "#matriz, arrays unidos\n",
    "#tensor, matrices unidas"
   ]
  },
  {
   "cell_type": "code",
   "execution_count": 12,
   "metadata": {},
   "outputs": [
    {
     "name": "stdout",
     "output_type": "stream",
     "text": [
      "[[1 4 7]\n",
      " [3 5 2]\n",
      " [3 6 3]]\n"
     ]
    }
   ],
   "source": [
    "Vector1 = np.array([1,4,7])\n",
    "Vector2 = np.array([3,5,2])\n",
    "Vector3 = np.array([3,6,3])\n",
    "Matriz = (Vector1,Vector2,Vector3)\n",
    "Matriz = np.array(Matriz)\n",
    "print(Matriz)"
   ]
  },
  {
   "cell_type": "code",
   "execution_count": 13,
   "metadata": {},
   "outputs": [
    {
     "name": "stdout",
     "output_type": "stream",
     "text": [
      "3\n"
     ]
    }
   ],
   "source": [
    "#dimension\n",
    "print(Vector1.size)\n"
   ]
  },
  {
   "cell_type": "code",
   "execution_count": 14,
   "metadata": {},
   "outputs": [
    {
     "name": "stdout",
     "output_type": "stream",
     "text": [
      "[1 4 7]\n",
      "37\n",
      "37\n",
      "[-27  19  -7]\n",
      "[[ 0.25        2.5        -2.25      ]\n",
      " [-0.25       -1.5         1.58333333]\n",
      " [ 0.25        0.5        -0.58333333]]\n",
      "11.999999999999995\n",
      "9\n",
      "[1. 1. 1.]\n",
      "[[1. 0. 0.]\n",
      " [0. 1. 0.]\n",
      " [0. 0. 1.]]\n"
     ]
    }
   ],
   "source": [
    "#Operaciones vectoriales y matriciales + matrices especiales\n",
    "#Trasposicion\n",
    "V1T = Vector1.T\n",
    "print(V1T)\n",
    "#Op basicas, mismos signos que con solo escalares\n",
    "#Producto Punto\n",
    "V1ppV2 = np.dot(Vector1,Vector2)\n",
    "print(V1ppV2)\n",
    "pdot2 = Vector1.dot(Vector2)\n",
    "print(pdot2)\n",
    "#Producto Cruz\n",
    "V1pcV2 = np.cross(Vector1,Vector2)\n",
    "print(V1pcV2)\n",
    "#Matriz Inversa\n",
    "MInv = np.linalg.inv(Matriz)\n",
    "print(MInv)\n",
    "#determinante\n",
    "Det = np.linalg.det(Matriz)\n",
    "print(Det)\n",
    "#Traza\n",
    "Traza = np.trace(Matriz)\n",
    "print(Traza)\n",
    "#Matriz unos\n",
    "Zr = np.ones(3)\n",
    "print(Zr)\n",
    "#Matriz identidad\n",
    "Id = np.identity(3)\n",
    "print(Id)\n",
    "#Cualquier otra, buscar en la libreria de algebra lineal"
   ]
  },
  {
   "cell_type": "code",
   "execution_count": 15,
   "metadata": {},
   "outputs": [
    {
     "name": "stdout",
     "output_type": "stream",
     "text": [
      "8.12403840463596\n"
     ]
    }
   ],
   "source": [
    "#Vectores\n",
    "#Norma\n",
    "Norma = np.linalg.norm(Vector1)\n",
    "print(Norma)"
   ]
  }
 ],
 "metadata": {
  "kernelspec": {
   "display_name": "Python 3.10.6 64-bit",
   "language": "python",
   "name": "python3"
  },
  "language_info": {
   "codemirror_mode": {
    "name": "ipython",
    "version": 3
   },
   "file_extension": ".py",
   "mimetype": "text/x-python",
   "name": "python",
   "nbconvert_exporter": "python",
   "pygments_lexer": "ipython3",
   "version": "3.10.6"
  },
  "orig_nbformat": 4,
  "vscode": {
   "interpreter": {
    "hash": "369f2c481f4da34e4445cda3fffd2e751bd1c4d706f27375911949ba6bb62e1c"
   }
  }
 },
 "nbformat": 4,
 "nbformat_minor": 2
}
