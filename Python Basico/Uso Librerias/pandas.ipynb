{
 "cells": [
  {
   "cell_type": "code",
   "execution_count": 166,
   "metadata": {},
   "outputs": [
    {
     "name": "stdout",
     "output_type": "stream",
     "text": [
      "1      a\n",
      "6      b\n",
      "345    c\n",
      "dtype: object\n",
      "     Cat A  Cat B Cat C\n",
      "ind1     a      1  val1\n",
      "ind2     b     65  val2\n",
      "ind3     c     45  val3\n",
      "Index(['Cat A', 'Cat B', 'Cat C'], dtype='object')\n"
     ]
    }
   ],
   "source": [
    "import numpy as np\n",
    "import pandas as pd\n",
    "#series, arrays similars a numpy\n",
    "#dataframe, matriz de arrays con indices\n",
    "#en resumen, es util para tablas y manejo de datos estadisticos basicos\n",
    "\n",
    "Serie = pd.Series([\"a\",\"b\",\"c\"],index = [1,6,345])\n",
    "print(Serie) #se creo una serie de valores y un valor indexado util para llamarlos como un diccionario\n",
    "#si creo otra lista sin index, los indexa de 0 a n elemento, tambien se puede como diccionario \n",
    "#[1:\"a\",2:\"b\"} #eso si, los dict son unidireccionales\n",
    "Serie[0:2]#accede a ambos, series es solo para 1 dimension\n",
    "\n",
    "#dataframe\n",
    "dict ={\"Cat A\":[\"a\",\"b\",\"c\"],\"Cat B\":[1,65,45],\"Cat C\":[\"val1\",\"val2\",\"val3\"]}\n",
    "Dt = pd.DataFrame(dict,index = [\"ind1\",\"ind2\",\"ind3\"])#el index son los titulos horizontales\n",
    "print(Dt)\n",
    "print(Dt.columns)#saca el index"
   ]
  },
  {
   "cell_type": "code",
   "execution_count": 167,
   "metadata": {},
   "outputs": [],
   "source": [
    "#poner tablas\n",
    "#lee json, csv, excel, casi cualquier monda tabulada\n",
    "Tabla = pd.read_csv(\"Dataset practica.csv\")"
   ]
  },
  {
   "cell_type": "code",
   "execution_count": 168,
   "metadata": {},
   "outputs": [
    {
     "name": "stdout",
     "output_type": "stream",
     "text": [
      "0                          10-Day Green Smoothie Cleanse\n",
      "1                                      11/22/63: A Novel\n",
      "2                12 Rules for Life: An Antidote to Chaos\n",
      "3                                 1984 (Signet Classics)\n",
      "4      5,000 Awesome Facts (About Everything!) (Natio...\n",
      "                             ...                        \n",
      "545         Wrecking Ball (Diary of a Wimpy Kid Book 14)\n",
      "546    You Are a Badass: How to Stop Doubting Your Gr...\n",
      "547    You Are a Badass: How to Stop Doubting Your Gr...\n",
      "548    You Are a Badass: How to Stop Doubting Your Gr...\n",
      "549    You Are a Badass: How to Stop Doubting Your Gr...\n",
      "Name: Name, Length: 550, dtype: object\n",
      "                                      Name              Author  User Rating  \\\n",
      "0            10-Day Green Smoothie Cleanse            JJ Smith          4.7   \n",
      "1                        11/22/63: A Novel        Stephen King          4.6   \n",
      "2  12 Rules for Life: An Antidote to Chaos  Jordan B. Peterson          4.7   \n",
      "3                   1984 (Signet Classics)       George Orwell          4.7   \n",
      "\n",
      "   Reviews  Price  Year        Genre  \n",
      "0    17350      8  2016  Non Fiction  \n",
      "1     2052     22  2011      Fiction  \n",
      "2    18979     15  2018  Non Fiction  \n",
      "3    21424      6  2017      Fiction   ['Name']\n",
      "iloc\n",
      "Name           12 Rules for Life: An Antidote to Chaos\n",
      "Author                              Jordan B. Peterson\n",
      "User Rating                                        4.7\n",
      "Name: 2, dtype: object\n"
     ]
    }
   ],
   "source": [
    "#filtrado de datos, buscar en especifico, maneja comillas simples\n",
    "#como numpy\n",
    "print(Tabla['Name'])\n",
    "print(Tabla.loc[0:3],['Name'])#muestra las filas del rango y la columna seleccionada\n",
    "print(\"iloc\")\n",
    "print(Tabla.iloc[2,0:3])#busca por indices primera casilla, segunda las filas deseadas"
   ]
  },
  {
   "cell_type": "code",
   "execution_count": 169,
   "metadata": {},
   "outputs": [
    {
     "name": "stdout",
     "output_type": "stream",
     "text": [
      "                                                  Name  \\\n",
      "0                        10-Day Green Smoothie Cleanse   \n",
      "1                                    11/22/63: A Novel   \n",
      "2              12 Rules for Life: An Antidote to Chaos   \n",
      "3                               1984 (Signet Classics)   \n",
      "4    5,000 Awesome Facts (About Everything!) (Natio...   \n",
      "..                                                 ...   \n",
      "545       Wrecking Ball (Diary of a Wimpy Kid Book 14)   \n",
      "546  You Are a Badass: How to Stop Doubting Your Gr...   \n",
      "547  You Are a Badass: How to Stop Doubting Your Gr...   \n",
      "548  You Are a Badass: How to Stop Doubting Your Gr...   \n",
      "549  You Are a Badass: How to Stop Doubting Your Gr...   \n",
      "\n",
      "                       Author  User Rating  Reviews  Year        Genre  \n",
      "0                    JJ Smith          4.7    17350  2016  Non Fiction  \n",
      "1                Stephen King          4.6     2052  2011      Fiction  \n",
      "2          Jordan B. Peterson          4.7    18979  2018  Non Fiction  \n",
      "3               George Orwell          4.7    21424  2017      Fiction  \n",
      "4    National Geographic Kids          4.8     7665  2019  Non Fiction  \n",
      "..                        ...          ...      ...   ...          ...  \n",
      "545               Jeff Kinney          4.9     9413  2019      Fiction  \n",
      "546               Jen Sincero          4.7    14331  2016  Non Fiction  \n",
      "547               Jen Sincero          4.7    14331  2017  Non Fiction  \n",
      "548               Jen Sincero          4.7    14331  2018  Non Fiction  \n",
      "549               Jen Sincero          4.7    14331  2019  Non Fiction  \n",
      "\n",
      "[550 rows x 6 columns]\n",
      "                                                  Name  \\\n",
      "0                        10-Day Green Smoothie Cleanse   \n",
      "1                                    11/22/63: A Novel   \n",
      "2              12 Rules for Life: An Antidote to Chaos   \n",
      "3                               1984 (Signet Classics)   \n",
      "4    5,000 Awesome Facts (About Everything!) (Natio...   \n",
      "..                                                 ...   \n",
      "545       Wrecking Ball (Diary of a Wimpy Kid Book 14)   \n",
      "546  You Are a Badass: How to Stop Doubting Your Gr...   \n",
      "547  You Are a Badass: How to Stop Doubting Your Gr...   \n",
      "548  You Are a Badass: How to Stop Doubting Your Gr...   \n",
      "549  You Are a Badass: How to Stop Doubting Your Gr...   \n",
      "\n",
      "                       Author  User Rating  Reviews  Year        Genre  Nuevo  \n",
      "0                    JJ Smith          4.7    17350  2016  Non Fiction      0  \n",
      "1                Stephen King          4.6     2052  2011      Fiction      1  \n",
      "2          Jordan B. Peterson          4.7    18979  2018  Non Fiction      2  \n",
      "3               George Orwell          4.7    21424  2017      Fiction      3  \n",
      "4    National Geographic Kids          4.8     7665  2019  Non Fiction      4  \n",
      "..                        ...          ...      ...   ...          ...    ...  \n",
      "545               Jeff Kinney          4.9     9413  2019      Fiction    545  \n",
      "546               Jen Sincero          4.7    14331  2016  Non Fiction    546  \n",
      "547               Jen Sincero          4.7    14331  2017  Non Fiction    547  \n",
      "548               Jen Sincero          4.7    14331  2018  Non Fiction    548  \n",
      "549               Jen Sincero          4.7    14331  2019  Non Fiction    549  \n",
      "\n",
      "[550 rows x 7 columns]\n"
     ]
    }
   ],
   "source": [
    "#agregar  eliminar\n",
    "Tabla.drop('Price',axis=1,inplace = True)#borra de la salida, no edita datos sin el implace\n",
    "print(Tabla)#borra la columna entera\n",
    "#crear\n",
    "Xd = np.arange(0,Tabla.shape[0])\n",
    "Tabla['Nuevo'] = Xd\n",
    "print(Tabla)"
   ]
  },
  {
   "cell_type": "code",
   "execution_count": 170,
   "metadata": {},
   "outputs": [
    {
     "name": "stdout",
     "output_type": "stream",
     "text": [
      "    C1   C2 C3\n",
      "0  1.0  5.0  a\n",
      "1  2.0  NaN  b\n",
      "2  3.0  NaN  c\n",
      "3  NaN  NaN  d\n",
      "4  NaN  5.0  e\n",
      "      C1     C2     C3\n",
      "0  False  False  False\n",
      "1  False   True  False\n",
      "2  False   True  False\n",
      "3   True   True  False\n",
      "4   True  False  False\n",
      "   C1  C2  C3\n",
      "0   0   0   0\n",
      "1   0   1   0\n",
      "2   0   1   0\n",
      "3   1   1   0\n",
      "4   1   0   0\n",
      "             C1            C2 C3\n",
      "0           1.0           5.0  a\n",
      "1           2.0  relleno nulo  b\n",
      "2           3.0  relleno nulo  c\n",
      "3  relleno nulo  relleno nulo  d\n",
      "4  relleno nulo           5.0  e\n",
      "    C1   C2 C3\n",
      "0  1.0  5.0  a\n",
      "1  2.0  5.0  b\n",
      "2  3.0  5.0  c\n",
      "3  3.0  5.0  d\n",
      "4  3.0  5.0  e\n",
      "    C1   C2 C3\n",
      "0  1.0  5.0  a\n"
     ]
    }
   ],
   "source": [
    "#manejo de datos nulos\n",
    "#nan es nulo, None igual\n",
    "dicc = {'C1':[1,2,3,np.nan,None],'C2':[5,np.nan,np.nan,np.nan,5],'C3':['a','b','c','d','e']}\n",
    "DF = pd.DataFrame(dicc)\n",
    "print(DF)\n",
    "print(DF.isnull())\n",
    "print(DF.isnull()*1)\n",
    "print(DF.fillna('relleno nulo'))#rellena con cualquier cosa\n",
    "print(DF.interpolate())#rellena continnuando una serie telescopica\n",
    "print(DF.dropna())#elimina espacion nulos, si hay 1 nulo elimina todo"
   ]
  },
  {
   "cell_type": "code",
   "execution_count": 171,
   "metadata": {},
   "outputs": [
    {
     "name": "stdout",
     "output_type": "stream",
     "text": [
      "    C1   C2 C3\n",
      "0  1.0  5.0  a\n",
      "1  2.0  NaN  b\n",
      "0     True\n",
      "1     True\n",
      "2     True\n",
      "3    False\n",
      "4    False\n",
      "Name: C1, dtype: bool\n"
     ]
    }
   ],
   "source": [
    "#filtrado\n",
    "print(DF.head(2))#lee las dos primeras filas, tail las dos ultimas\n",
    "print(DF['C1']<5)#compara cuando se cumple, nulo no es 0, es nulo\n"
   ]
  },
  {
   "cell_type": "code",
   "execution_count": 172,
   "metadata": {},
   "outputs": [
    {
     "name": "stdout",
     "output_type": "stream",
     "text": [
      "<class 'pandas.core.frame.DataFrame'>\n",
      "RangeIndex: 5 entries, 0 to 4\n",
      "Data columns (total 3 columns):\n",
      " #   Column  Non-Null Count  Dtype  \n",
      "---  ------  --------------  -----  \n",
      " 0   C1      3 non-null      float64\n",
      " 1   C2      2 non-null      float64\n",
      " 2   C3      5 non-null      object \n",
      "dtypes: float64(2), object(1)\n",
      "memory usage: 248.0+ bytes\n",
      "None\n",
      "        C1   C2\n",
      "count  3.0  2.0\n",
      "mean   2.0  5.0\n",
      "std    1.0  0.0\n",
      "min    1.0  5.0\n",
      "25%    1.5  5.0\n",
      "50%    2.0  5.0\n",
      "75%    2.5  5.0\n",
      "max    3.0  5.0\n",
      "Index    128\n",
      "C1        40\n",
      "C2        40\n",
      "C3       290\n",
      "dtype: int64\n",
      "    C1   C2 C3\n",
      "0  1.0  5.0  a\n",
      "1  2.0  NaN  b\n",
      "2  3.0  NaN  c\n",
      "3  NaN  NaN  d\n",
      "4  NaN  5.0  e\n",
      "    C1   C2 C3\n",
      "0  1.0  5.0  a\n",
      "4  NaN  5.0  e\n",
      "1  2.0  NaN  b\n",
      "2  3.0  NaN  c\n",
      "3  NaN  NaN  d\n"
     ]
    }
   ],
   "source": [
    "print(DF.info())#bota informacion , tipo de dato , index, la info va por columnas\n",
    "print(DF.describe()) # da info estadistica\n",
    "print(DF.memory_usage(deep = True))#indica el uso de memoria , sin paretensis saca por dato, con deep, por columna\n",
    "#print(DF[5].value_counts) cuenta valores}\n",
    "print(DF.drop_duplicates())#elimina duplicados #si pongo keep no elimina todos\n",
    "print(DF.sort_values('C2'))#ordena de acuerdo a un criterio"
   ]
  },
  {
   "cell_type": "code",
   "execution_count": 173,
   "metadata": {},
   "outputs": [
    {
     "name": "stdout",
     "output_type": "stream",
     "text": [
      "                            Name  User Rating  Reviews  Year  Genre  Nuevo\n",
      "Author                                                                    \n",
      "Abraham Verghese               2            2        2     2      2      2\n",
      "Adam Gasiewski                 1            1        1     1      1      1\n",
      "Adam Mansbach                  1            1        1     1      1      1\n",
      "Adir Levy                      1            1        1     1      1      1\n",
      "Admiral William H. McRaven     1            1        1     1      1      1\n",
      "...                          ...          ...      ...   ...    ...    ...\n",
      "Walter Isaacson                3            3        3     3      3      3\n",
      "William Davis                  2            2        2     2      2      2\n",
      "William P. Young               2            2        2     2      2      2\n",
      "Wizards RPG Team               3            3        3     3      3      3\n",
      "Zhi Gang Sha                   2            2        2     2      2      2\n",
      "\n",
      "[248 rows x 6 columns]\n",
      "                           User Rating                                      \\\n",
      "                                 count      mean       std  min   25%  50%   \n",
      "Author                                                                       \n",
      "Abraham Verghese                   2.0  4.600000  0.000000  4.6  4.60  4.6   \n",
      "Adam Gasiewski                     1.0  4.400000       NaN  4.4  4.40  4.4   \n",
      "Adam Mansbach                      1.0  4.800000       NaN  4.8  4.80  4.8   \n",
      "Adir Levy                          1.0  4.800000       NaN  4.8  4.80  4.8   \n",
      "Admiral William H. McRaven         1.0  4.700000       NaN  4.7  4.70  4.7   \n",
      "...                                ...       ...       ...  ...   ...  ...   \n",
      "Walter Isaacson                    3.0  4.566667  0.057735  4.5  4.55  4.6   \n",
      "William Davis                      2.0  4.400000  0.000000  4.4  4.40  4.4   \n",
      "William P. Young                   2.0  4.600000  0.000000  4.6  4.60  4.6   \n",
      "Wizards RPG Team                   3.0  4.800000  0.000000  4.8  4.80  4.8   \n",
      "Zhi Gang Sha                       2.0  4.600000  0.000000  4.6  4.60  4.6   \n",
      "\n",
      "                                     Reviews                ...     Year  \\\n",
      "                            75%  max   count          mean  ...      75%   \n",
      "Author                                                      ...            \n",
      "Abraham Verghese            4.6  4.6     2.0   4866.000000  ...  2010.75   \n",
      "Adam Gasiewski              4.4  4.4     1.0   3113.000000  ...  2017.00   \n",
      "Adam Mansbach               4.8  4.8     1.0   9568.000000  ...  2011.00   \n",
      "Adir Levy                   4.8  4.8     1.0   8170.000000  ...  2019.00   \n",
      "Admiral William H. McRaven  4.7  4.7     1.0  10199.000000  ...  2017.00   \n",
      "...                         ...  ...     ...           ...  ...      ...   \n",
      "Walter Isaacson             4.6  4.6     3.0   6222.666667  ...  2014.50   \n",
      "William Davis               4.4  4.4     2.0   7497.000000  ...  2012.75   \n",
      "William P. Young            4.6  4.6     2.0  19720.000000  ...  2015.00   \n",
      "Wizards RPG Team            4.8  4.8     3.0  16990.000000  ...  2018.50   \n",
      "Zhi Gang Sha                4.6  4.6     2.0    128.500000  ...  2012.00   \n",
      "\n",
      "                                   Nuevo                                 \\\n",
      "                               max count        mean         std    min   \n",
      "Author                                                                    \n",
      "Abraham Verghese            2011.0   2.0   56.500000    0.707107   56.0   \n",
      "Adam Gasiewski              2017.0   1.0  232.000000         NaN  232.0   \n",
      "Adam Mansbach               2011.0   1.0  133.000000         NaN  133.0   \n",
      "Adir Levy                   2019.0   1.0  529.000000         NaN  529.0   \n",
      "Admiral William H. McRaven  2017.0   1.0  227.000000         NaN  227.0   \n",
      "...                            ...   ...         ...         ...    ...   \n",
      "Walter Isaacson             2017.0   3.0  272.333333   50.520623  214.0   \n",
      "William Davis               2013.0   2.0  531.500000    0.707107  531.0   \n",
      "William P. Young            2017.0   2.0  459.500000    0.707107  459.0   \n",
      "Wizards RPG Team            2019.0   3.0  266.000000    1.000000  265.0   \n",
      "Zhi Gang Sha                2013.0   2.0  189.000000  156.977705   78.0   \n",
      "\n",
      "                                                          \n",
      "                               25%    50%     75%    max  \n",
      "Author                                                    \n",
      "Abraham Verghese             56.25   56.5   56.75   57.0  \n",
      "Adam Gasiewski              232.00  232.0  232.00  232.0  \n",
      "Adam Mansbach               133.00  133.0  133.00  133.0  \n",
      "Adir Levy                   529.00  529.0  529.00  529.0  \n",
      "Admiral William H. McRaven  227.00  227.0  227.00  227.0  \n",
      "...                            ...    ...     ...    ...  \n",
      "Walter Isaacson             257.50  301.0  301.50  302.0  \n",
      "William Davis               531.25  531.5  531.75  532.0  \n",
      "William P. Young            459.25  459.5  459.75  460.0  \n",
      "Wizards RPG Team            265.50  266.0  266.50  267.0  \n",
      "Zhi Gang Sha                133.50  189.0  244.50  300.0  \n",
      "\n",
      "[248 rows x 32 columns]\n"
     ]
    }
   ],
   "source": [
    "#groupby\n",
    "print(Tabla.groupby('Author').count())#agrupa y aplica estadigrafo\n",
    "print(Tabla.groupby('Author').describe())"
   ]
  },
  {
   "cell_type": "code",
   "execution_count": null,
   "metadata": {},
   "outputs": [],
   "source": [
    "#es posible operar los DF como conjuntos\n",
    "#pd.concat(Df1,Df2),ignore_index = True    para ignorar indices duplicados añadir lo ultimo\n",
    "#tambien esta merge, join\n",
    "#Df1.join(df2),condicion de filtrado"
   ]
  }
 ],
 "metadata": {
  "kernelspec": {
   "display_name": "Python 3.10.6 64-bit",
   "language": "python",
   "name": "python3"
  },
  "language_info": {
   "codemirror_mode": {
    "name": "ipython",
    "version": 3
   },
   "file_extension": ".py",
   "mimetype": "text/x-python",
   "name": "python",
   "nbconvert_exporter": "python",
   "pygments_lexer": "ipython3",
   "version": "3.10.6"
  },
  "orig_nbformat": 4,
  "vscode": {
   "interpreter": {
    "hash": "08acc7de2fbca2a099042f56c468e586e0deb6f5f16e5c0369a465004685d635"
   }
  }
 },
 "nbformat": 4,
 "nbformat_minor": 2
}
