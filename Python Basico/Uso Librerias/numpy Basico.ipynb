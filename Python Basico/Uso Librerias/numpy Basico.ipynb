{
 "cells": [
  {
   "cell_type": "code",
   "execution_count": 2,
   "metadata": {},
   "outputs": [
    {
     "name": "stdout",
     "output_type": "stream",
     "text": [
      "[1, 4, 54, 2, 6, 56, 234, 54, 423, 0, 54]\n",
      "[  1.   4.  54.   2.   6.  56. 234.  54. 423.   0.  54.]\n",
      "<class 'numpy.ndarray'>\n",
      "1.0\n",
      "[0, 1, 2, 3, 4, 5, 6, 7, 8, 9, 10, 11]\n",
      "Desoues va el arange\n",
      "[  0   5  10  15  20  25  30  35  40  45  50  55  60  65  70  75  80  85\n",
      "  90  95 100 105 110 115]\n",
      "[[1. 1. 1. 1. 1.]\n",
      " [1. 1. 1. 1. 1.]\n",
      " [1. 1. 1. 1. 1.]\n",
      " [1. 1. 1. 1. 1.]\n",
      " [1. 1. 1. 1. 1.]]\n",
      "[  0.           4.46666667   8.93333333  13.4         17.86666667\n",
      "  22.33333333  26.8         31.26666667  35.73333333  40.2\n",
      "  44.66666667  49.13333333  53.6         58.06666667  62.53333333\n",
      "  67.          71.46666667  75.93333333  80.4         84.86666667\n",
      "  89.33333333  93.8         98.26666667 102.73333333 107.2\n",
      " 111.66666667 116.13333333 120.6        125.06666667 129.53333333\n",
      " 134.        ]\n",
      "[[1. 0. 0. 0.]\n",
      " [0. 1. 0. 0.]\n",
      " [0. 0. 1. 0.]\n",
      " [0. 0. 0. 1.]]\n",
      "0.8252478990547376\n",
      "[[91 76 58 48 24 42]\n",
      " [10 19  6 14 73 10]\n",
      " [89 31 37 40 59 81]\n",
      " [76 39 97 94  5 46]\n",
      " [23  9 34  4 58 69]\n",
      " [12 54 95 66 42 53]]\n"
     ]
    }
   ],
   "source": [
    "import numpy as np\n",
    "#numpy y arrays, uso basico\n",
    "lista = [1,4,54,2,6,56,234,54,423,0,54]\n",
    "print(lista)\n",
    "Arr = np.array(lista, dtype = 'float64')#define otro tipo de dato\n",
    "print(Arr)\n",
    "print(type(Arr))\n",
    "matriz = [[1,8,7],[8,24,5],[7,7,8]]\n",
    "matriz = np.array(matriz)\n",
    "\n",
    "\n",
    " #metodos de arrays\n",
    "print(Arr[0])\n",
    "ordenado = list(range(0,12))\n",
    "print(ordenado)\n",
    "orden2 = np.arange(0,120,5)\n",
    "print(\"Desoues va el arange\")\n",
    "print(orden2)#igual que el range pero ya directamente como el array\n",
    "unitos = np.ones((5,5))#un array de ceros XD,#tambien con ones\n",
    "print(unitos)\n",
    "#crea un array de n numeros en un intervalo\n",
    "interxd = np.linspace(0,134,31)\n",
    "print(interxd)\n",
    "Matrizdiagonal = np.eye(4)\n",
    "print(Matrizdiagonal)\n",
    "val = np.random.rand()\n",
    "print(val)#genera un numero random de 0 a 1, se multiplica para obtener lo deseado\n",
    "matrand = np.random.randint(1,100,(6,6)) #no existe randfloat\n",
    "print(matrand)"
   ]
  },
  {
   "cell_type": "code",
   "execution_count": null,
   "metadata": {},
   "outputs": [],
   "source": []
  },
  {
   "cell_type": "code",
   "execution_count": 9,
   "metadata": {},
   "outputs": [
    {
     "name": "stdout",
     "output_type": "stream",
     "text": [
      "float64\n",
      "int64\n"
     ]
    }
   ],
   "source": [
    "#tipos de datos\n",
    "#los arrrays manejan un unico tipo\n",
    "print(Arr.dtype)\n",
    "Arr = Arr.astype(np.int64)#cambia el tipo de dato\n",
    "print(Arr.dtype)\n",
    "#hay los ya mencionados, bool_ (en bool cualquier numero es 1), string_"
   ]
  },
  {
   "cell_type": "code",
   "execution_count": 10,
   "metadata": {},
   "outputs": [
    {
     "name": "stdout",
     "output_type": "stream",
     "text": [
      "1\n",
      "2\n",
      "2 [[  1   4  54   2   6  56 234  54 423   0  54]]\n",
      "1\n"
     ]
    }
   ],
   "source": [
    "#Dimension\n",
    "print(Arr.ndim)\n",
    "print(matriz.ndim)\n",
    "#agrega\n",
    "Arr = np.expand_dims(Arr,axis=0)\n",
    "print(Arr.ndim,Arr)\n",
    "Arr = np.squeeze(Arr)\n",
    "print(Arr.ndim)"
   ]
  },
  {
   "cell_type": "code",
   "execution_count": 11,
   "metadata": {},
   "outputs": [
    {
     "name": "stdout",
     "output_type": "stream",
     "text": [
      "(14, 4)\n",
      "[[ 8  2  1  1 10 12 11  6]\n",
      " [ 9  1  8 11  3  9  5  1]\n",
      " [ 9  4  2 14  2  9 11  3]\n",
      " [10  6 11  5 13  7  6  8]\n",
      " [ 2  8  1  5  6  3  6 14]\n",
      " [10 11  7 10  8  2  9  3]\n",
      " [14 11  8  1  3  9 10  7]]\n"
     ]
    }
   ],
   "source": [
    "#shape y reshape\n",
    "#shape: indica las filas y columnas del arreglo o matriz\n",
    "#reshape: cambia la forma, cambia el nxm\n",
    "Matz = np.random.randint(1,15,(14,4))\n",
    "print(Matz.shape)\n",
    "#print(Matz)\n",
    "Matz = Matz.reshape(7,8)#tiene que tener el mismo numero de elementos\n",
    "print(Matz)"
   ]
  },
  {
   "cell_type": "code",
   "execution_count": 12,
   "metadata": {},
   "outputs": [
    {
     "name": "stdout",
     "output_type": "stream",
     "text": [
      "[14 11 11 14 13 12 11 14]\n",
      "[6 5 3 2 3 0 0 4]\n",
      "13\n",
      "3.0\n",
      "7.5\n",
      "3.8390780674744382\n",
      "14.738520408163266\n"
     ]
    }
   ],
   "source": [
    "maxmatz = Matz.max(0)#valor mas grande, 0 eje y, 1 eje x\n",
    "print(maxmatz)\n",
    "print(Matz.argmax(0))#indica la posicion del mayor\n",
    "#igual para minimos\n",
    "rangoestadistico = Matz.ptp()\n",
    "print(rangoestadistico)#tambien se puede por ejes\n",
    "\n",
    "print(np.percentile(Matz,25))\n",
    "print(np.median(Matz))\n",
    "print(np.std(Matz))#saca la desvest\n",
    "print(np.var(Matz))#varianza\n",
    "#mean es promedio\n"
   ]
  },
  {
   "cell_type": "code",
   "execution_count": 13,
   "metadata": {},
   "outputs": [
    {
     "name": "stdout",
     "output_type": "stream",
     "text": [
      "[[ 8  2  1  1 10 12 11  6]\n",
      " [ 9  1  8 11  3  9  5  1]\n",
      " [ 9  4  2 14  2  9 11  3]\n",
      " [10  6 11  5 13  7  6  8]\n",
      " [ 2  8  1  5  6  3  6 14]\n",
      " [10 11  7 10  8  2  9  3]\n",
      " [14 11  8  1  3  9 10  7]]\n"
     ]
    }
   ],
   "source": [
    "Copiamatz = Matz.copy()\n",
    "print(Copiamatz)"
   ]
  },
  {
   "cell_type": "code",
   "execution_count": 14,
   "metadata": {},
   "outputs": [
    {
     "name": "stdout",
     "output_type": "stream",
     "text": [
      "[[16  4  2  2 20 24 22 12]\n",
      " [18  2 16 22  6 18 10  2]\n",
      " [18  8  4 28  4 18 22  6]\n",
      " [20 12 22 10 26 14 12 16]\n",
      " [ 4 16  2 10 12  6 12 28]\n",
      " [20 22 14 20 16  4 18  6]\n",
      " [28 22 16  2  6 18 20 14]]\n",
      "[[-9 -2 -3]\n",
      " [-2 14 -5]\n",
      " [-3 -3 -2]]\n",
      "[[ 1  8  7]\n",
      " [ 8 24  5]\n",
      " [ 7  7  8]]\n",
      "[[ -46   89  -57]\n",
      " [-135  305 -154]\n",
      " [-101   60  -72]]\n",
      "[[ -46   75  -41]\n",
      " [-135  295 -106]\n",
      " [-101   44  -58]]\n",
      "[[ -10  -60   70]\n",
      " [-190   30  160]\n",
      " [  10  -10    0]]\n"
     ]
    }
   ],
   "source": [
    "#operaciones\n",
    "#es recomendable multiplicar\n",
    "mult = Matz*2\n",
    "print(mult)\n",
    "#si la operacion da una indeterminacion bota inf y lo demas lo realiza\n",
    "\n",
    "#producto punto\n",
    "Mat1 = matriz -5*2\n",
    "print(Mat1)\n",
    "print(matriz)\n",
    "Prodpunto= np.matmul(matriz,Mat1)\n",
    "print(Prodpunto)\n",
    "Prodpunto2 = matriz @ Mat1.T #T es transpuesta\n",
    "print(Prodpunto2)\n",
    "\n",
    "#producto cruz\n",
    "ProdCruz = np.cross(matriz, Mat1)\n",
    "print(ProdCruz)"
   ]
  }
 ],
 "metadata": {
  "kernelspec": {
   "display_name": "Python 3.10.6 64-bit",
   "language": "python",
   "name": "python3"
  },
  "language_info": {
   "codemirror_mode": {
    "name": "ipython",
    "version": 3
   },
   "file_extension": ".py",
   "mimetype": "text/x-python",
   "name": "python",
   "nbconvert_exporter": "python",
   "pygments_lexer": "ipython3",
   "version": "3.10.9"
  },
  "orig_nbformat": 4,
  "vscode": {
   "interpreter": {
    "hash": "369f2c481f4da34e4445cda3fffd2e751bd1c4d706f27375911949ba6bb62e1c"
   }
  }
 },
 "nbformat": 4,
 "nbformat_minor": 2
}
