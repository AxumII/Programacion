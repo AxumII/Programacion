{
  "cells": [
    {
      "cell_type": "code",
      "execution_count": 57,
      "metadata": {},
      "outputs": [],
      "source": [
        "#Instrucciones y Objetivos\n",
        "\"\"\"\n",
        "\n",
        "\n",
        "Paso a Paso Matemtatico\n",
        "1. Ingresar una o varias distancias \n",
        "\n",
        "2: Ingresar una o varias fuerzas asociadas a cada distancia\n",
        "Nota: Cada distancia tiene una o varias fuerzas asociadas, cada fuerza tiene una distancia asociada, y las fuerzas asociadas a una distancia se pueden reducir a una unica fuerza\n",
        "\n",
        "3: Guardar las distancias y fuerzas y tenerlas asociadas por un parametro (como cada distancia tiene una fuerza, la distancia 1 tendra la fuerza asociada), para las multiples fuerzas hay que tener en cuenta el punto 4\n",
        "\n",
        "4: Procesar los datos de forma que las distancias y fuerzas que se guardaron esten todas en datos coordenados ajustados  a la magnitud\n",
        "\n",
        "4.1: Las distancias se dan de estas formas\n",
        "a: Coordenadas x,y,z\n",
        "b: Dos coordenadas y un angulo\n",
        "c: Una coordenada, un angulo y la longitud del vector de direccion\n",
        "No recuerdo ahora si habia una forma mas\n",
        "\n",
        "4.2: Las Fuerzas se dan de estas formas\n",
        "a: Coordenadas x,y,z que no requieren magnitud\n",
        "b: Coordenadas x,y,z de un vector de direccion y magnitud\n",
        "c: 3 angulos frente a ejes y magnitud\n",
        "d: 2 angulos frente a ejes, una coordenada y magnitud\n",
        "e: 2 angulos frente a ejes, longitud del vector de direccion y magnitud\n",
        "f: 1 angulo frente a eje, dos coordenadas y magnitud\n",
        "g: 1 angulo frente a eje, longitud del vector de direccion y magnitud\n",
        "\n",
        "Creo que me falta uno mas pero xd\n",
        "\n",
        "Todos los datos se deben convertir al tipo a de cada uno, las distancias al tipo a y las fuerzas al tipo a, pero, es necesario ir con pasos intermedios\n",
        "en las fuerzas los tipos d,e,f, y los demas se pueden convertir a \"b\" y \"c\", que estos son faciles de cambiar a coordenadas\n",
        "\n",
        "Primero la idea es trabajar con todos los datos en coordenadas, y cuando el codigo funcione se van añadiendo las diferentes formas de dar coordenadas, por lo que por ahora todo sera dado\n",
        "en coordenadas x,y,z con la magnitud ya multiplicada de forma que se puedan operar directamente\n",
        "\n",
        "\n",
        "5: Guardar los datos procesados (puse una matriz) y poner una forma de verificar que todos sean en coordenados (tipo de dato suministrado)\n",
        "Nota: aca ya deben estar listos para realizar producto cruz\n",
        "\n",
        "6: Realizar producto cruz para hallar el momento de cada distancia\n",
        "\n",
        "7: Hallar el momento equivalente, la fuerza equivalente y el angulo entre estos dos vectores\n",
        "\n",
        "8: Proyectar el momento en la fuerza para obtener dos vectores, uno paralelo y otro perpendicular a la Fuerza resultante \n",
        "Nota. este momento es la descomposicion en dos componentes frente a un plano donde la fuerza esta en un eje, el otro eje lo fija el momento para formar un plano, ya que sobre F hay infinitos planos\n",
        "\n",
        "9: por medio de un producto cruz se hallan las ecuaciones para hallar la distancia con la que el momento perpendicular se anula y solo quede un momento paralelo y la fuerza en una distancia a \n",
        "\n",
        "10: Devolver los datos en un vector para tener el ejercicio, ademas de mostrar el paso\n",
        "\n",
        "####################################################################################################################################\n",
        "\n",
        "Graficar\n",
        "1. Se grafican las distancias\n",
        "3: En otro plano se grafica cada distancia con cada fuerza resultante\n",
        "4; Se grafican los momentos\n",
        "5: Se grafica el mommento equivalente y la fuerza equivalente\n",
        "6: Se grafica la fuerza, los dos momentos descompuestos y el plano entre estos\n",
        "7: se grafica la distancia donde se anula\n",
        "8: se guardan todas las graficas\n",
        "\n",
        "AÑadidos\n",
        "Si se puede, seria bueno poner puntos con el ratos y guardarlos\n",
        "\n",
        "\"\"\""
      ]
    },
    {
      "cell_type": "code",
      "execution_count": 58,
      "metadata": {
        "id": "pbWtJJNim1i5"
      },
      "outputs": [],
      "source": [
        "#Librerias\n",
        "import numpy as np"
      ]
    },
    {
      "cell_type": "code",
      "execution_count": 59,
      "metadata": {},
      "outputs": [],
      "source": [
        "#Variables Globales\n",
        "Dist = np.zeros((1,3))\n",
        "Fuerza = np.zeros((1,5))\n",
        "#######################################################################\n",
        "n = 10\n",
        "SaveD = np.zeros((n,3))\n",
        "SaveF = np.zeros((n,5))\n",
        "SaveM = np.zeros((n,3))\n",
        "SaveMatrix = np.array[SaveD,SaveF,SaveM]\n",
        "DevMatrix = np.zeros((1,3))"
      ]
    },
    {
      "cell_type": "code",
      "execution_count": 60,
      "metadata": {
        "id": "BMv-6emedHcv"
      },
      "outputs": [],
      "source": [
        "#Valores\n",
        "class Val:\n",
        "  def __init__(self,Dist,Fuerza):\n",
        "    self.Dist = Dist\n",
        "    self.Fuerza = Fuerza\n",
        "\n",
        "  def CreateD(Dist):\n",
        "    x = float(input(\"Ingrese la coordenada X\"))\n",
        "    y = float(input(\"Ingrese la coordenada Y\"))\n",
        "    z = float(input(\"Ingrese la coordenada Z\"))\n",
        "    Dist = [x,y,z]\n",
        "    print(Dist)\n",
        "\n",
        "  def CreateF(Fuerza):\n",
        "    Type = int(input(\"Como tiene los datos?\\n 0.Coordenadas\\n 1.Magnitud y Coordenadas Direccion\\n 2.Magnitud y Angulos\"))\n",
        "    if Type == 0:\n",
        "      x = float(input(\"Ingrese la coordenada X\"))\n",
        "      y = float(input(\"Ingrese la coordenada Y\"))\n",
        "      z = float(input(\"Ingrese la coordenada Z\"))\n",
        "      Fuerza = [Type,x,y,z,0]\n",
        "      return Fuerza\n",
        "\n",
        "    if Type == 1:\n",
        "      x = float(input(\"Ingrese la coordenada X\"))\n",
        "      y = float(input(\"Ingrese la coordenada Y\"))\n",
        "      z = float(input(\"Ingrese la coordenada Z\"))\n",
        "      F = float(input(\"Ingrese la magnitud F\"))\n",
        "      Fuerza = [Type,x,y,z,F]\n",
        "      return Fuerza\n",
        "      \n",
        "    if Type == 2:\n",
        "      x = float(input(\"Ingrese el angulo en X\"))\n",
        "      y = float(input(\"Ingrese el angulo en Y\"))\n",
        "      z = float(input(\"Ingrese el angulo en Z\"))\n",
        "      F = float(input(\"Ingrese la magnitud F\"))\n",
        "      Fuerza = [Type,x,y,z,F]\n",
        "      return Fuerza\n",
        "\n",
        "  def SaveValues():\n",
        "    AskD = int(input(\"Cuantas Dist\"))\n",
        "    for x in range(AskD):\n",
        "      D = Val.CreateD(Dist)\n",
        "      ##########################################\n",
        "      #Por ahora solo se trabajara con suma de fuerzas en coordenadas\n",
        "      SumF = np.zeros(())\n",
        "      AskF = int(input(\"Cuantas Fuerzas\"))\n",
        "\n",
        "      for x in range(AskF):\n",
        "        print(1)\n",
        "\n"
      ]
    },
    {
      "cell_type": "code",
      "execution_count": 61,
      "metadata": {
        "id": "505MGysvYbmP"
      },
      "outputs": [
        {
          "name": "stdout",
          "output_type": "stream",
          "text": [
            "[0, 54.0, 4.0, 45.0, 0]\n",
            "[array([[0., 0., 0.],\n",
            "       [0., 0., 0.],\n",
            "       [0., 0., 0.],\n",
            "       [0., 0., 0.],\n",
            "       [0., 0., 0.],\n",
            "       [0., 0., 0.],\n",
            "       [0., 0., 0.],\n",
            "       [0., 0., 0.],\n",
            "       [0., 0., 0.],\n",
            "       [0., 0., 0.]]), array([[0., 0., 0., 0., 0.],\n",
            "       [0., 0., 0., 0., 0.],\n",
            "       [0., 0., 0., 0., 0.],\n",
            "       [0., 0., 0., 0., 0.],\n",
            "       [0., 0., 0., 0., 0.],\n",
            "       [0., 0., 0., 0., 0.],\n",
            "       [0., 0., 0., 0., 0.],\n",
            "       [0., 0., 0., 0., 0.],\n",
            "       [0., 0., 0., 0., 0.],\n",
            "       [0., 0., 0., 0., 0.]]), array([[0., 0., 0.],\n",
            "       [0., 0., 0.],\n",
            "       [0., 0., 0.],\n",
            "       [0., 0., 0.],\n",
            "       [0., 0., 0.],\n",
            "       [0., 0., 0.],\n",
            "       [0., 0., 0.],\n",
            "       [0., 0., 0.],\n",
            "       [0., 0., 0.],\n",
            "       [0., 0., 0.]])]\n"
          ]
        }
      ],
      "source": [
        "#General\n",
        "\n",
        "\n",
        "alv  = Val.CreateF(Fuerza)\n",
        "print(alv)\n"
      ]
    }
  ],
  "metadata": {
    "colab": {
      "provenance": []
    },
    "kernelspec": {
      "display_name": "Python 3.10.5 64-bit",
      "language": "python",
      "name": "python3"
    },
    "language_info": {
      "codemirror_mode": {
        "name": "ipython",
        "version": 3
      },
      "file_extension": ".py",
      "mimetype": "text/x-python",
      "name": "python",
      "nbconvert_exporter": "python",
      "pygments_lexer": "ipython3",
      "version": "3.10.5"
    },
    "vscode": {
      "interpreter": {
        "hash": "48c3296ee8b1f46da1d5e32f9d072f3c93426c057c8b9486a32c096c129e2ab4"
      }
    }
  },
  "nbformat": 4,
  "nbformat_minor": 0
}
